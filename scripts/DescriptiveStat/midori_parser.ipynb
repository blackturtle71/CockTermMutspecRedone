{
 "cells": [
  {
   "cell_type": "code",
   "execution_count": 17,
   "metadata": {},
   "outputs": [],
   "source": [
    "from Bio import SeqIO\n",
    "import re\n",
    "from collections import Counter\n",
    "import pandas as pd\n",
    "import os.path\n"
   ]
  },
  {
   "cell_type": "code",
   "execution_count": 42,
   "metadata": {},
   "outputs": [],
   "source": [
    "PATH_TO_MIDORI_FOLDER = '../../../MIDORI'\n",
    "PATH_TO_MIDORI_TABLE = '../../interim/MIDORI'\n",
    "#df = pd.DataFrame(columns=['Species'])\n",
    "def parser(taxa, gene):\n",
    "    all_sp = []\n",
    "    db = f'{PATH_TO_MIDORI_FOLDER}/{gene}.fasta'\n",
    "    for entry in SeqIO.parse(db, 'fasta'):\n",
    "        if taxa in entry.id:\n",
    "            taxonomy = entry.id.split(';')\n",
    "            all_sp.append(taxonomy[7])\n",
    "    counted_sp = Counter(all_sp)\n",
    "    \n",
    "    if os.path.isfile(f'{PATH_TO_MIDORI_TABLE}/midori_sp_table.csv'):\n",
    "        df = pd.read_csv(f'{PATH_TO_MIDORI_TABLE}/midori_sp_table.csv')\n",
    "    else: \n",
    "        df = pd.DataFrame()\n",
    "    sp_name = []\n",
    "    gene_count = []\n",
    "    for k,v in counted_sp.items():\n",
    "        sp_name.append(k)\n",
    "        gene_count.append(v)\n",
    "    \n",
    "    # CHECK IF IT'S EMPTY AND IF IT'S NOT, THEN MERGE BY SPECIES\n",
    "    tmp_df = pd.DataFrame({'Species':sp_name, gene:gene_count})\n",
    "    df = df.append(tmp_df)\n",
    "\n",
    "    df.to_csv(f'{PATH_TO_MIDORI_TABLE}/midori_sp_table.csv')\n",
    "\n",
    "\n"
   ]
  },
  {
   "cell_type": "code",
   "execution_count": 44,
   "metadata": {},
   "outputs": [
    {
     "name": "stderr",
     "output_type": "stream",
     "text": [
      "/tmp/ipykernel_2229/653648914.py:24: FutureWarning: The frame.append method is deprecated and will be removed from pandas in a future version. Use pandas.concat instead.\n",
      "  df = df.append(tmp_df)\n"
     ]
    }
   ],
   "source": [
    "parser('Insecta', 'A8')\n"
   ]
  }
 ],
 "metadata": {
  "kernelspec": {
   "display_name": "Python 3",
   "language": "python",
   "name": "python3"
  },
  "language_info": {
   "codemirror_mode": {
    "name": "ipython",
    "version": 3
   },
   "file_extension": ".py",
   "mimetype": "text/x-python",
   "name": "python",
   "nbconvert_exporter": "python",
   "pygments_lexer": "ipython3",
   "version": "3.10.6"
  },
  "orig_nbformat": 4,
  "vscode": {
   "interpreter": {
    "hash": "916dbcbb3f70747c44a77c7bcd40155683ae19c65e1c03b4aa3499c5328201f1"
   }
  }
 },
 "nbformat": 4,
 "nbformat_minor": 2
}
