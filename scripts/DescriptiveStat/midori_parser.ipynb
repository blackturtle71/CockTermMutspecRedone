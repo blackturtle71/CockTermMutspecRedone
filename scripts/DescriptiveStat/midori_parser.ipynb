{
 "cells": [
  {
   "cell_type": "code",
   "execution_count": 71,
   "metadata": {},
   "outputs": [],
   "source": [
    "from Bio import SeqIO\n",
    "import re\n",
    "from collections import Counter\n",
    "import pandas as pd\n",
    "import os.path\n",
    "import panel as pn"
   ]
  },
  {
   "cell_type": "code",
   "execution_count": 76,
   "metadata": {},
   "outputs": [],
   "source": [
    "PATH_TO_MIDORI_FOLDER = '../../../MIDORI'\n",
    "PATH_TO_MIDORI_TABLE = '../../interim/MIDORI'\n",
    "#df = pd.DataFrame(columns=['Species'])\n",
    "def parser(taxa, gene):\n",
    "    all_sp = []\n",
    "    db = f'{PATH_TO_MIDORI_FOLDER}/{gene}.fasta'\n",
    "    for entry in SeqIO.parse(db, 'fasta'):\n",
    "        if taxa in entry.id:\n",
    "            taxonomy = entry.id.split(';')\n",
    "            all_sp.append(taxonomy[7])\n",
    "    counted_sp = Counter(all_sp)\n",
    "    \n",
    "    if os.path.isfile(f'{PATH_TO_MIDORI_TABLE}/midori_sp_table.csv'):\n",
    "        df = pd.read_csv(f'{PATH_TO_MIDORI_TABLE}/midori_sp_table.csv')\n",
    "    else: \n",
    "        df = pd.DataFrame()\n",
    "    sp_name = []\n",
    "    gene_count = []\n",
    "    for k,v in counted_sp.items():\n",
    "        sp_name.append(k)\n",
    "        gene_count.append(v)\n",
    "    \n",
    "    # CHECK IF IT'S EMPTY AND IF IT'S NOT, THEN MERGE BY SPECIES\n",
    "    tmp_df = pd.DataFrame({'Species':sp_name, gene:gene_count})\n",
    "    if df.empty:   \n",
    "        df = df.append(tmp_df)\n",
    "    else:\n",
    "        df = pd.merge(df, tmp_df, how=\"outer\")\n",
    "    df = df.fillna(0)\n",
    "    df.sort_values(by=['Species'], inplace=True)\n",
    "    df.to_csv(f'{PATH_TO_MIDORI_TABLE}/midori_sp_table.csv', index=False)\n",
    "    \n",
    "\n",
    "\n"
   ]
  },
  {
   "cell_type": "code",
   "execution_count": 77,
   "metadata": {},
   "outputs": [
    {
     "name": "stderr",
     "output_type": "stream",
     "text": [
      "/tmp/ipykernel_11599/3690595901.py:26: FutureWarning: The frame.append method is deprecated and will be removed from pandas in a future version. Use pandas.concat instead.\n",
      "  df = df.append(tmp_df)\n"
     ]
    }
   ],
   "source": [
    "genes = ['A6', 'A8', 'CO1', 'CO2', 'CO3', 'Cytb', 'ND1', 'ND2', 'ND3', 'ND4', 'ND4L', 'ND5', 'ND6']\n",
    "for gene in genes:\n",
    "    parser('Insecta', gene)"
   ]
  },
  {
   "cell_type": "code",
   "execution_count": 90,
   "metadata": {},
   "outputs": [
    {
     "name": "stdout",
     "output_type": "stream",
     "text": [
      "125214\n"
     ]
    }
   ],
   "source": [
    "df = pd.read_csv(f'{PATH_TO_MIDORI_TABLE}/midori_sp_table.csv')\n",
    "print(len(df['Species']))"
   ]
  },
  {
   "cell_type": "code",
   "execution_count": 89,
   "metadata": {},
   "outputs": [
    {
     "data": {
      "text/plain": [
       "41342302"
      ]
     },
     "execution_count": 89,
     "metadata": {},
     "output_type": "execute_result"
    }
   ],
   "source": [
    "def generate_html(dataframe: pd.DataFrame):\n",
    "    # get the table HTML from the dataframe\n",
    "    table_html = dataframe.to_html(table_id=\"table\")\n",
    "    # construct the complete HTML with jQuery Data tables\n",
    "    # You can disable paging or enable y scrolling on lines 20 and 21 respectively\n",
    "    html = f\"\"\"\n",
    "    <html>\n",
    "    <header>\n",
    "        <link href=\"https://cdn.datatables.net/1.11.5/css/jquery.dataTables.min.css\" rel=\"stylesheet\">\n",
    "    </header>\n",
    "    <body>\n",
    "    {table_html}\n",
    "    <script src=\"https://code.jquery.com/jquery-3.6.0.slim.min.js\" integrity=\"sha256-u7e5khyithlIdTpu22PHhENmPcRdFiHRjhAuHcs05RI=\" crossorigin=\"anonymous\"></script>\n",
    "    <script type=\"text/javascript\" src=\"https://cdn.datatables.net/1.11.5/js/jquery.dataTables.min.js\"></script>\n",
    "    <script>\n",
    "        $(document).ready( function () {{\n",
    "            $('#table').DataTable({{\n",
    "                // paging: false,    \n",
    "                // scrollY: 400,\n",
    "            }});\n",
    "        }});\n",
    "    </script>\n",
    "    </body>\n",
    "    </html>\n",
    "    \"\"\"\n",
    "    # return the html\n",
    "    return html\n",
    "\n",
    "df = pd.read_csv(f'{PATH_TO_MIDORI_TABLE}/midori_sp_table.csv')\n",
    "    # take only first 1000, otherwise it'll generate a large html file\n",
    "df = df.iloc[:1000]\n",
    "    # generate the HTML from the dataframe\n",
    "html = generate_html(df)\n",
    "    # write the HTML content to an HTML file\n",
    "open(\"index.html\", \"w\").write(html)"
   ]
  }
 ],
 "metadata": {
  "kernelspec": {
   "display_name": "Python 3",
   "language": "python",
   "name": "python3"
  },
  "language_info": {
   "codemirror_mode": {
    "name": "ipython",
    "version": 3
   },
   "file_extension": ".py",
   "mimetype": "text/x-python",
   "name": "python",
   "nbconvert_exporter": "python",
   "pygments_lexer": "ipython3",
   "version": "3.10.6"
  },
  "orig_nbformat": 4,
  "vscode": {
   "interpreter": {
    "hash": "916dbcbb3f70747c44a77c7bcd40155683ae19c65e1c03b4aa3499c5328201f1"
   }
  }
 },
 "nbformat": 4,
 "nbformat_minor": 2
}
